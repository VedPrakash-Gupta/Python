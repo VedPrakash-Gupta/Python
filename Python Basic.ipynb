{
 "cells": [
  {
   "cell_type": "code",
   "execution_count": 1,
   "id": "e67e4186",
   "metadata": {},
   "outputs": [
    {
     "name": "stdout",
     "output_type": "stream",
     "text": [
      "this is my first program\n"
     ]
    }
   ],
   "source": [
    "print(\"this is my first program\")"
   ]
  },
  {
   "cell_type": "code",
   "execution_count": 2,
   "id": "270a57f2",
   "metadata": {},
   "outputs": [],
   "source": [
    "#my name is ved\n",
    "\n"
   ]
  },
  {
   "cell_type": "code",
   "execution_count": 3,
   "id": "e3bcb41a",
   "metadata": {},
   "outputs": [
    {
     "data": {
      "text/plain": [
       "'vbedb\\nvedbe\\nveebeb\\nevbebeb\\nbebe'"
      ]
     },
     "execution_count": 3,
     "metadata": {},
     "output_type": "execute_result"
    }
   ],
   "source": [
    "'''vbedb\n",
    "vedbe\n",
    "veebeb\n",
    "evbebeb\n",
    "bebe'''"
   ]
  },
  {
   "cell_type": "code",
   "execution_count": 4,
   "id": "f30822cf",
   "metadata": {},
   "outputs": [],
   "source": [
    "a = 10"
   ]
  },
  {
   "cell_type": "code",
   "execution_count": 5,
   "id": "7dd45222",
   "metadata": {},
   "outputs": [
    {
     "data": {
      "text/plain": [
       "10"
      ]
     },
     "execution_count": 5,
     "metadata": {},
     "output_type": "execute_result"
    }
   ],
   "source": [
    "a"
   ]
  },
  {
   "cell_type": "code",
   "execution_count": 6,
   "id": "2f26931a",
   "metadata": {},
   "outputs": [
    {
     "data": {
      "text/plain": [
       "int"
      ]
     },
     "execution_count": 6,
     "metadata": {},
     "output_type": "execute_result"
    }
   ],
   "source": [
    "type(a)"
   ]
  },
  {
   "cell_type": "code",
   "execution_count": 7,
   "id": "bd5452fe",
   "metadata": {},
   "outputs": [],
   "source": [
    "b = \"ved\""
   ]
  },
  {
   "cell_type": "code",
   "execution_count": 8,
   "id": "09a2d803",
   "metadata": {},
   "outputs": [
    {
     "data": {
      "text/plain": [
       "str"
      ]
     },
     "execution_count": 8,
     "metadata": {},
     "output_type": "execute_result"
    }
   ],
   "source": [
    "type(b)"
   ]
  },
  {
   "cell_type": "code",
   "execution_count": 9,
   "id": "e8ff2249",
   "metadata": {},
   "outputs": [],
   "source": [
    "a,v = 34, \"ved\""
   ]
  },
  {
   "cell_type": "code",
   "execution_count": 10,
   "id": "2383f12b",
   "metadata": {},
   "outputs": [
    {
     "data": {
      "text/plain": [
       "34"
      ]
     },
     "execution_count": 10,
     "metadata": {},
     "output_type": "execute_result"
    }
   ],
   "source": [
    "a"
   ]
  },
  {
   "cell_type": "code",
   "execution_count": 11,
   "id": "949f6790",
   "metadata": {},
   "outputs": [
    {
     "data": {
      "text/plain": [
       "'ved'"
      ]
     },
     "execution_count": 11,
     "metadata": {},
     "output_type": "execute_result"
    }
   ],
   "source": [
    "v"
   ]
  },
  {
   "cell_type": "code",
   "execution_count": 12,
   "id": "58d82990",
   "metadata": {},
   "outputs": [
    {
     "name": "stdout",
     "output_type": "stream",
     "text": [
      "34 ved\n"
     ]
    }
   ],
   "source": [
    "print(a,v)"
   ]
  },
  {
   "cell_type": "code",
   "execution_count": 13,
   "id": "76eb3665",
   "metadata": {},
   "outputs": [],
   "source": [
    "name = \"ved\"\n",
    "userid = \"inv001\"\n",
    "passowrd = \"nkjevbekjv\"\n",
    "mail = \"vedpra@gmail.com\""
   ]
  },
  {
   "cell_type": "code",
   "execution_count": 14,
   "id": "5945df60",
   "metadata": {},
   "outputs": [],
   "source": [
    "a = 1.000004"
   ]
  },
  {
   "cell_type": "code",
   "execution_count": 15,
   "id": "7e7d6b06",
   "metadata": {},
   "outputs": [
    {
     "data": {
      "text/plain": [
       "float"
      ]
     },
     "execution_count": 15,
     "metadata": {},
     "output_type": "execute_result"
    }
   ],
   "source": [
    "type(a)"
   ]
  },
  {
   "cell_type": "code",
   "execution_count": 16,
   "id": "0ba32c92",
   "metadata": {},
   "outputs": [],
   "source": [
    "v = True\n",
    "c = False"
   ]
  },
  {
   "cell_type": "code",
   "execution_count": 17,
   "id": "655f9e20",
   "metadata": {},
   "outputs": [
    {
     "data": {
      "text/plain": [
       "bool"
      ]
     },
     "execution_count": 17,
     "metadata": {},
     "output_type": "execute_result"
    }
   ],
   "source": [
    "type(v)"
   ]
  },
  {
   "cell_type": "code",
   "execution_count": 18,
   "id": "232e253e",
   "metadata": {},
   "outputs": [
    {
     "name": "stdout",
     "output_type": "stream",
     "text": [
      "4\n"
     ]
    }
   ],
   "source": [
    "print(True + True + True + False + True)"
   ]
  },
  {
   "cell_type": "code",
   "execution_count": 19,
   "id": "7752e3d9",
   "metadata": {},
   "outputs": [
    {
     "name": "stdout",
     "output_type": "stream",
     "text": [
      "0\n"
     ]
    }
   ],
   "source": [
    "print(False -True + True)"
   ]
  },
  {
   "cell_type": "code",
   "execution_count": 20,
   "id": "664249b1",
   "metadata": {},
   "outputs": [
    {
     "data": {
      "text/plain": [
       "2"
      ]
     },
     "execution_count": 20,
     "metadata": {},
     "output_type": "execute_result"
    }
   ],
   "source": [
    "True +True - False"
   ]
  },
  {
   "cell_type": "code",
   "execution_count": 21,
   "id": "9669bdee",
   "metadata": {},
   "outputs": [
    {
     "ename": "ZeroDivisionError",
     "evalue": "division by zero",
     "output_type": "error",
     "traceback": [
      "\u001b[1;31m---------------------------------------------------------------------------\u001b[0m",
      "\u001b[1;31mZeroDivisionError\u001b[0m                         Traceback (most recent call last)",
      "Input \u001b[1;32mIn [21]\u001b[0m, in \u001b[0;36m<cell line: 1>\u001b[1;34m()\u001b[0m\n\u001b[1;32m----> 1\u001b[0m \u001b[38;5;28;43;01mTrue\u001b[39;49;00m\u001b[43m \u001b[49m\u001b[38;5;241;43m/\u001b[39;49m\u001b[43m \u001b[49m\u001b[38;5;28;43;01mFalse\u001b[39;49;00m\n",
      "\u001b[1;31mZeroDivisionError\u001b[0m: division by zero"
     ]
    }
   ],
   "source": [
    "True / False"
   ]
  },
  {
   "cell_type": "code",
   "execution_count": 22,
   "id": "498a2197",
   "metadata": {},
   "outputs": [],
   "source": [
    "n= 45 +5j"
   ]
  },
  {
   "cell_type": "code",
   "execution_count": 23,
   "id": "5628a890",
   "metadata": {},
   "outputs": [
    {
     "data": {
      "text/plain": [
       "complex"
      ]
     },
     "execution_count": 23,
     "metadata": {},
     "output_type": "execute_result"
    }
   ],
   "source": [
    "type(n)"
   ]
  },
  {
   "cell_type": "code",
   "execution_count": 24,
   "id": "5e84621d",
   "metadata": {},
   "outputs": [
    {
     "data": {
      "text/plain": [
       "45.0"
      ]
     },
     "execution_count": 24,
     "metadata": {},
     "output_type": "execute_result"
    }
   ],
   "source": [
    "n.real"
   ]
  },
  {
   "cell_type": "code",
   "execution_count": 25,
   "id": "e62fd9b6",
   "metadata": {},
   "outputs": [
    {
     "data": {
      "text/plain": [
       "5.0"
      ]
     },
     "execution_count": 25,
     "metadata": {},
     "output_type": "execute_result"
    }
   ],
   "source": [
    "n.imag"
   ]
  },
  {
   "cell_type": "code",
   "execution_count": 26,
   "id": "7b8a5b43",
   "metadata": {},
   "outputs": [
    {
     "data": {
      "text/plain": [
       "str"
      ]
     },
     "execution_count": 26,
     "metadata": {},
     "output_type": "execute_result"
    }
   ],
   "source": [
    "b = \"bhdf\"\n",
    "type(b)"
   ]
  },
  {
   "cell_type": "code",
   "execution_count": 30,
   "id": "44a792b2",
   "metadata": {},
   "outputs": [
    {
     "data": {
      "text/plain": [
       "'1ved'"
      ]
     },
     "execution_count": 30,
     "metadata": {},
     "output_type": "execute_result"
    }
   ],
   "source": [
    "str(1)+\"ved\""
   ]
  },
  {
   "cell_type": "code",
   "execution_count": 31,
   "id": "954f9a5f",
   "metadata": {},
   "outputs": [
    {
     "data": {
      "text/plain": [
       "'1ved'"
      ]
     },
     "execution_count": 31,
     "metadata": {},
     "output_type": "execute_result"
    }
   ],
   "source": [
    "\"1\"+ \"ved\""
   ]
  },
  {
   "cell_type": "code",
   "execution_count": 32,
   "id": "3353fdf5",
   "metadata": {},
   "outputs": [
    {
     "data": {
      "text/plain": [
       "2.233454"
      ]
     },
     "execution_count": 32,
     "metadata": {},
     "output_type": "execute_result"
    }
   ],
   "source": [
    "1 + 1.233454"
   ]
  },
  {
   "cell_type": "code",
   "execution_count": 33,
   "id": "d04b843b",
   "metadata": {},
   "outputs": [
    {
     "data": {
      "text/plain": [
       "'vedvedved'"
      ]
     },
     "execution_count": 33,
     "metadata": {},
     "output_type": "execute_result"
    }
   ],
   "source": [
    "\"ved\" * 3"
   ]
  },
  {
   "cell_type": "code",
   "execution_count": 34,
   "id": "2c77c331",
   "metadata": {},
   "outputs": [
    {
     "data": {
      "text/plain": [
       "'vedvedved'"
      ]
     },
     "execution_count": 34,
     "metadata": {},
     "output_type": "execute_result"
    }
   ],
   "source": [
    "\"ved\"+\"ved\"+\"ved\""
   ]
  },
  {
   "cell_type": "code",
   "execution_count": 35,
   "id": "89c48b65",
   "metadata": {},
   "outputs": [
    {
     "ename": "TypeError",
     "evalue": "unsupported operand type(s) for -: 'str' and 'str'",
     "output_type": "error",
     "traceback": [
      "\u001b[1;31m---------------------------------------------------------------------------\u001b[0m",
      "\u001b[1;31mTypeError\u001b[0m                                 Traceback (most recent call last)",
      "Input \u001b[1;32mIn [35]\u001b[0m, in \u001b[0;36m<cell line: 1>\u001b[1;34m()\u001b[0m\n\u001b[1;32m----> 1\u001b[0m \u001b[38;5;124;43m\"\u001b[39;49m\u001b[38;5;124;43mved\u001b[39;49m\u001b[38;5;124;43m\"\u001b[39;49m\u001b[38;5;241;43m-\u001b[39;49m\u001b[38;5;124;43m\"\u001b[39;49m\u001b[38;5;124;43mved\u001b[39;49m\u001b[38;5;124;43m\"\u001b[39;49m\n",
      "\u001b[1;31mTypeError\u001b[0m: unsupported operand type(s) for -: 'str' and 'str'"
     ]
    }
   ],
   "source": [
    "\"ved\"-\"ved\""
   ]
  },
  {
   "cell_type": "code",
   "execution_count": 36,
   "id": "4afc3fd7",
   "metadata": {},
   "outputs": [
    {
     "data": {
      "text/plain": [
       "23"
      ]
     },
     "execution_count": 36,
     "metadata": {},
     "output_type": "execute_result"
    }
   ],
   "source": [
    "int(23)"
   ]
  },
  {
   "cell_type": "code",
   "execution_count": 37,
   "id": "6888e08b",
   "metadata": {},
   "outputs": [],
   "source": [
    "a = 10"
   ]
  },
  {
   "cell_type": "code",
   "execution_count": 38,
   "id": "8d41e6e9",
   "metadata": {},
   "outputs": [
    {
     "name": "stdout",
     "output_type": "stream",
     "text": [
      "ved\n"
     ]
    }
   ],
   "source": [
    "a  = input()"
   ]
  },
  {
   "cell_type": "code",
   "execution_count": 39,
   "id": "5ce62a2c",
   "metadata": {},
   "outputs": [
    {
     "data": {
      "text/plain": [
       "'ved'"
      ]
     },
     "execution_count": 39,
     "metadata": {},
     "output_type": "execute_result"
    }
   ],
   "source": [
    "a"
   ]
  },
  {
   "cell_type": "code",
   "execution_count": 40,
   "id": "b3b60447",
   "metadata": {},
   "outputs": [
    {
     "data": {
      "text/plain": [
       "str"
      ]
     },
     "execution_count": 40,
     "metadata": {},
     "output_type": "execute_result"
    }
   ],
   "source": [
    "type(a)"
   ]
  },
  {
   "cell_type": "code",
   "execution_count": 53,
   "id": "72391f42",
   "metadata": {},
   "outputs": [
    {
     "name": "stdout",
     "output_type": "stream",
     "text": [
      "variable a12\n",
      "variable b23\n",
      "variable c34\n"
     ]
    }
   ],
   "source": [
    "a = int(input(\"variable a\"))\n",
    "b = int(input(\"variable b\"))\n",
    "c = int(input(\"variable c\"))\n"
   ]
  },
  {
   "cell_type": "code",
   "execution_count": 54,
   "id": "4a65f349",
   "metadata": {},
   "outputs": [
    {
     "data": {
      "text/plain": [
       "(12, 23, 34)"
      ]
     },
     "execution_count": 54,
     "metadata": {},
     "output_type": "execute_result"
    }
   ],
   "source": [
    "a,b,c"
   ]
  },
  {
   "cell_type": "code",
   "execution_count": 57,
   "id": "b578dc0b",
   "metadata": {},
   "outputs": [],
   "source": [
    "v = a+b/c\n",
    "v  = v + 78 + 6j"
   ]
  },
  {
   "cell_type": "code",
   "execution_count": 58,
   "id": "1205839f",
   "metadata": {},
   "outputs": [
    {
     "data": {
      "text/plain": [
       "(90.67647058823529+6j)"
      ]
     },
     "execution_count": 58,
     "metadata": {},
     "output_type": "execute_result"
    }
   ],
   "source": [
    "v"
   ]
  },
  {
   "cell_type": "code",
   "execution_count": 59,
   "id": "1cca1c8f",
   "metadata": {},
   "outputs": [
    {
     "data": {
      "text/plain": [
       "complex"
      ]
     },
     "execution_count": 59,
     "metadata": {},
     "output_type": "execute_result"
    }
   ],
   "source": [
    "type(v)"
   ]
  },
  {
   "cell_type": "code",
   "execution_count": 60,
   "id": "0acab70e",
   "metadata": {},
   "outputs": [
    {
     "ename": "TypeError",
     "evalue": "unsupported operand type(s) for +: 'complex' and 'str'",
     "output_type": "error",
     "traceback": [
      "\u001b[1;31m---------------------------------------------------------------------------\u001b[0m",
      "\u001b[1;31mTypeError\u001b[0m                                 Traceback (most recent call last)",
      "Input \u001b[1;32mIn [60]\u001b[0m, in \u001b[0;36m<cell line: 1>\u001b[1;34m()\u001b[0m\n\u001b[1;32m----> 1\u001b[0m \u001b[43mv\u001b[49m\u001b[43m \u001b[49m\u001b[38;5;241;43m+\u001b[39;49m\u001b[43m \u001b[49m\u001b[38;5;124;43m\"\u001b[39;49m\u001b[38;5;124;43mved\u001b[39;49m\u001b[38;5;124;43m\"\u001b[39;49m\n",
      "\u001b[1;31mTypeError\u001b[0m: unsupported operand type(s) for +: 'complex' and 'str'"
     ]
    }
   ],
   "source": [
    "v + \"ved\""
   ]
  },
  {
   "cell_type": "code",
   "execution_count": 61,
   "id": "0dfa256e",
   "metadata": {},
   "outputs": [
    {
     "data": {
      "text/plain": [
       "'(90.67647058823529+6j)ved'"
      ]
     },
     "execution_count": 61,
     "metadata": {},
     "output_type": "execute_result"
    }
   ],
   "source": [
    "str(v) + \"ved\""
   ]
  },
  {
   "cell_type": "code",
   "execution_count": 68,
   "id": "35d10477",
   "metadata": {},
   "outputs": [
    {
     "name": "stdout",
     "output_type": "stream",
     "text": [
      "Input a number23\n",
      "entered data is less then 34\n"
     ]
    }
   ],
   "source": [
    "\n",
    "a  =int(input(\"Input a number\"))\n",
    "if a <34:\n",
    "    print(\"entered data is less then 34\")\n",
    "elif a < 100:\n",
    "    print(\"entered data is less then 100\")\n",
    "else :\n",
    "    print(\"user input is not lesser then 34\")"
   ]
  },
  {
   "cell_type": "code",
   "execution_count": 69,
   "id": "a0783c20",
   "metadata": {},
   "outputs": [
    {
     "name": "stdout",
     "output_type": "stream",
     "text": [
      "Input the ammount504\n",
      "I will buy a bike\n"
     ]
    }
   ],
   "source": [
    "salary  = int(input(\"Input the ammount\"))\n",
    "if salary > 1000 : \n",
    "    print(\"I will buy a car\")\n",
    "elif salary > 500 : \n",
    "    print(\"I will buy a bike\")\n",
    "elif salary > 100:\n",
    "    print(\"I will but candy\")\n",
    "else:\n",
    "    print(\"I will go for savings\")   "
   ]
  },
  {
   "cell_type": "code",
   "execution_count": null,
   "id": "9eb99b05",
   "metadata": {},
   "outputs": [],
   "source": []
  },
  {
   "cell_type": "code",
   "execution_count": null,
   "id": "8b4c3efa",
   "metadata": {},
   "outputs": [],
   "source": []
  },
  {
   "cell_type": "code",
   "execution_count": null,
   "id": "df471705",
   "metadata": {},
   "outputs": [],
   "source": []
  },
  {
   "cell_type": "code",
   "execution_count": null,
   "id": "129f2d93",
   "metadata": {},
   "outputs": [],
   "source": []
  },
  {
   "cell_type": "code",
   "execution_count": null,
   "id": "61d681e9",
   "metadata": {},
   "outputs": [],
   "source": []
  },
  {
   "cell_type": "code",
   "execution_count": null,
   "id": "e8fd99cd",
   "metadata": {},
   "outputs": [],
   "source": []
  },
  {
   "cell_type": "code",
   "execution_count": null,
   "id": "7e8647ff",
   "metadata": {},
   "outputs": [],
   "source": []
  },
  {
   "cell_type": "code",
   "execution_count": null,
   "id": "f5fccb06",
   "metadata": {},
   "outputs": [],
   "source": []
  },
  {
   "cell_type": "code",
   "execution_count": null,
   "id": "eed63aea",
   "metadata": {},
   "outputs": [],
   "source": []
  }
 ],
 "metadata": {
  "kernelspec": {
   "display_name": "Python 3 (ipykernel)",
   "language": "python",
   "name": "python3"
  },
  "language_info": {
   "codemirror_mode": {
    "name": "ipython",
    "version": 3
   },
   "file_extension": ".py",
   "mimetype": "text/x-python",
   "name": "python",
   "nbconvert_exporter": "python",
   "pygments_lexer": "ipython3",
   "version": "3.9.12"
  }
 },
 "nbformat": 4,
 "nbformat_minor": 5
}
